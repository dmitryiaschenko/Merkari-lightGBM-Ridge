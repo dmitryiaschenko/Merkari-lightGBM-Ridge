{
 "cells": [
  {
   "cell_type": "code",
   "execution_count": null,
   "metadata": {},
   "outputs": [],
   "source": [
    "import pandas as pd\n",
    "import numpy as np\n",
    "%matplotlib inline\n",
    "import matplotlib.pyplot as plt\n",
    "import seaborn as sns\n",
    "from sklearn import preprocessing\n",
    "from sklearn.ensemble import RandomForestRegressor\n",
    "from sklearn.model_selection import train_test_split\n",
    "import lightgbm as lgb\n",
    "from sklearn.linear_model import Ridge\n",
    "from sklearn.feature_extraction.text import CountVectorizer, TfidfVectorizer\n",
    "from sklearn.preprocessing import LabelBinarizer\n",
    "from scipy.sparse import csr_matrix, hstack"
   ]
  },
  {
   "cell_type": "code",
   "execution_count": 3,
   "metadata": {
    "collapsed": true
   },
   "outputs": [],
   "source": [
    "train = pd.read_table(\"train.tsv\")\n",
    "test = pd.read_table(\"test.tsv\")"
   ]
  },
  {
   "cell_type": "code",
   "execution_count": 4,
   "metadata": {
    "collapsed": true
   },
   "outputs": [],
   "source": [
    "train = train.drop(train[(train.price < 1.0)].index)"
   ]
  },
  {
   "cell_type": "code",
   "execution_count": 5,
   "metadata": {
    "collapsed": true
   },
   "outputs": [],
   "source": [
    "NUM_BRANDS = 4000\n",
    "NUM_CATEGORIES = 1000\n",
    "NAME_MIN_DF = 10\n",
    "MAX_FEATURES_ITEM_DESCRIPTION = 50000"
   ]
  },
  {
   "cell_type": "code",
   "execution_count": 6,
   "metadata": {
    "collapsed": true
   },
   "outputs": [],
   "source": [
    "def handle_missing_inplace(dataset):\n",
    "    dataset['category_name'].fillna(value='missing', inplace=True)\n",
    "    dataset['brand_name'].fillna(value='missing', inplace=True)\n",
    "    dataset['item_description'].fillna(value='missing', inplace=True)"
   ]
  },
  {
   "cell_type": "code",
   "execution_count": 7,
   "metadata": {
    "collapsed": true
   },
   "outputs": [],
   "source": [
    "def cutting(dataset):\n",
    "    pop_brand = dataset['brand_name'].value_counts().loc[lambda x: x.index != 'missing'].index[:NUM_BRANDS]\n",
    "    dataset.loc[~dataset['brand_name'].isin(pop_brand), 'brand_name'] = 'missing'\n",
    "    pop_category = dataset['category_name'].value_counts().loc[lambda x: x.index != 'missing'].index[:NUM_CATEGORIES]\n",
    "    dataset.loc[~dataset['category_name'].isin(pop_category), 'category_name'] = 'missing'"
   ]
  },
  {
   "cell_type": "code",
   "execution_count": 8,
   "metadata": {
    "collapsed": true
   },
   "outputs": [],
   "source": [
    "def to_categorical(dataset):\n",
    "    dataset['category_name'] = dataset['category_name'].astype('category')\n",
    "    dataset['brand_name'] = dataset['brand_name'].astype('category')\n",
    "    dataset['item_condition_id'] = dataset['item_condition_id'].astype('category')"
   ]
  },
  {
   "cell_type": "code",
   "execution_count": 9,
   "metadata": {
    "collapsed": true
   },
   "outputs": [],
   "source": [
    "nrow_train = train.shape[0]\n",
    "y = np.log1p(train[\"price\"])\n",
    "merge: pd.DataFrame = pd.concat([train, test])\n",
    "submission: pd.DataFrame = test[['test_id']]"
   ]
  },
  {
   "cell_type": "code",
   "execution_count": 10,
   "metadata": {
    "collapsed": true
   },
   "outputs": [],
   "source": [
    "handle_missing_inplace(merge)"
   ]
  },
  {
   "cell_type": "code",
   "execution_count": 11,
   "metadata": {
    "collapsed": true
   },
   "outputs": [],
   "source": [
    "cutting(merge)"
   ]
  },
  {
   "cell_type": "code",
   "execution_count": 12,
   "metadata": {
    "collapsed": true
   },
   "outputs": [],
   "source": [
    "to_categorical(merge)"
   ]
  },
  {
   "cell_type": "code",
   "execution_count": 16,
   "metadata": {},
   "outputs": [
    {
     "data": {
      "text/plain": [
       "'Adorable top with a hint of lace and a key hole in the back! The pale pink is a 1X, and I also have a 3X available in white!'"
      ]
     },
     "execution_count": 16,
     "metadata": {},
     "output_type": "execute_result"
    }
   ],
   "source": [
    "print train[\"item_description\"][2]"
   ]
  },
  {
   "cell_type": "code",
   "execution_count": 13,
   "metadata": {},
   "outputs": [
    {
     "data": {
      "text/html": [
       "<div>\n",
       "<style>\n",
       "    .dataframe thead tr:only-child th {\n",
       "        text-align: right;\n",
       "    }\n",
       "\n",
       "    .dataframe thead th {\n",
       "        text-align: left;\n",
       "    }\n",
       "\n",
       "    .dataframe tbody tr th {\n",
       "        vertical-align: top;\n",
       "    }\n",
       "</style>\n",
       "<table border=\"1\" class=\"dataframe\">\n",
       "  <thead>\n",
       "    <tr style=\"text-align: right;\">\n",
       "      <th></th>\n",
       "      <th>brand_name</th>\n",
       "      <th>category_name</th>\n",
       "      <th>item_condition_id</th>\n",
       "      <th>item_description</th>\n",
       "      <th>name</th>\n",
       "      <th>price</th>\n",
       "      <th>shipping</th>\n",
       "      <th>test_id</th>\n",
       "      <th>train_id</th>\n",
       "    </tr>\n",
       "  </thead>\n",
       "  <tbody>\n",
       "    <tr>\n",
       "      <th>0</th>\n",
       "      <td>missing</td>\n",
       "      <td>Men/Tops/T-shirts</td>\n",
       "      <td>3</td>\n",
       "      <td>No description yet</td>\n",
       "      <td>MLB Cincinnati Reds T Shirt Size XL</td>\n",
       "      <td>10.0</td>\n",
       "      <td>1</td>\n",
       "      <td>NaN</td>\n",
       "      <td>0.0</td>\n",
       "    </tr>\n",
       "    <tr>\n",
       "      <th>1</th>\n",
       "      <td>Razer</td>\n",
       "      <td>Electronics/Computers &amp; Tablets/Components &amp; P...</td>\n",
       "      <td>3</td>\n",
       "      <td>This keyboard is in great condition and works ...</td>\n",
       "      <td>Razer BlackWidow Chroma Keyboard</td>\n",
       "      <td>52.0</td>\n",
       "      <td>0</td>\n",
       "      <td>NaN</td>\n",
       "      <td>1.0</td>\n",
       "    </tr>\n",
       "    <tr>\n",
       "      <th>2</th>\n",
       "      <td>Target</td>\n",
       "      <td>Women/Tops &amp; Blouses/Blouse</td>\n",
       "      <td>1</td>\n",
       "      <td>Adorable top with a hint of lace and a key hol...</td>\n",
       "      <td>AVA-VIV Blouse</td>\n",
       "      <td>10.0</td>\n",
       "      <td>1</td>\n",
       "      <td>NaN</td>\n",
       "      <td>2.0</td>\n",
       "    </tr>\n",
       "    <tr>\n",
       "      <th>3</th>\n",
       "      <td>missing</td>\n",
       "      <td>Home/Home Décor/Home Décor Accents</td>\n",
       "      <td>1</td>\n",
       "      <td>New with tags. Leather horses. Retail for [rm]...</td>\n",
       "      <td>Leather Horse Statues</td>\n",
       "      <td>35.0</td>\n",
       "      <td>1</td>\n",
       "      <td>NaN</td>\n",
       "      <td>3.0</td>\n",
       "    </tr>\n",
       "    <tr>\n",
       "      <th>4</th>\n",
       "      <td>missing</td>\n",
       "      <td>Women/Jewelry/Necklaces</td>\n",
       "      <td>1</td>\n",
       "      <td>Complete with certificate of authenticity</td>\n",
       "      <td>24K GOLD plated rose</td>\n",
       "      <td>44.0</td>\n",
       "      <td>0</td>\n",
       "      <td>NaN</td>\n",
       "      <td>4.0</td>\n",
       "    </tr>\n",
       "    <tr>\n",
       "      <th>5</th>\n",
       "      <td>missing</td>\n",
       "      <td>Women/Other/Other</td>\n",
       "      <td>3</td>\n",
       "      <td>Banana republic bottoms, Candies skirt with ma...</td>\n",
       "      <td>Bundled items requested for Ruie</td>\n",
       "      <td>59.0</td>\n",
       "      <td>0</td>\n",
       "      <td>NaN</td>\n",
       "      <td>5.0</td>\n",
       "    </tr>\n",
       "    <tr>\n",
       "      <th>6</th>\n",
       "      <td>Acacia Swimwear</td>\n",
       "      <td>Women/Swimwear/Two-Piece</td>\n",
       "      <td>3</td>\n",
       "      <td>Size small but straps slightly shortened to fi...</td>\n",
       "      <td>Acacia pacific tides santorini top</td>\n",
       "      <td>64.0</td>\n",
       "      <td>0</td>\n",
       "      <td>NaN</td>\n",
       "      <td>6.0</td>\n",
       "    </tr>\n",
       "    <tr>\n",
       "      <th>7</th>\n",
       "      <td>Soffe</td>\n",
       "      <td>Sports &amp; Outdoors/Apparel/Girls</td>\n",
       "      <td>3</td>\n",
       "      <td>You get three pairs of Sophie cheer shorts siz...</td>\n",
       "      <td>Girls cheer and tumbling bundle of 7</td>\n",
       "      <td>6.0</td>\n",
       "      <td>1</td>\n",
       "      <td>NaN</td>\n",
       "      <td>7.0</td>\n",
       "    </tr>\n",
       "    <tr>\n",
       "      <th>8</th>\n",
       "      <td>Nike</td>\n",
       "      <td>Sports &amp; Outdoors/Apparel/Girls</td>\n",
       "      <td>3</td>\n",
       "      <td>Girls Size small Plus green. Three shorts total.</td>\n",
       "      <td>Girls Nike Pro shorts</td>\n",
       "      <td>19.0</td>\n",
       "      <td>0</td>\n",
       "      <td>NaN</td>\n",
       "      <td>8.0</td>\n",
       "    </tr>\n",
       "    <tr>\n",
       "      <th>9</th>\n",
       "      <td>missing</td>\n",
       "      <td>Vintage &amp; Collectibles/Collectibles/Doll</td>\n",
       "      <td>3</td>\n",
       "      <td>I realized his pants are on backwards after th...</td>\n",
       "      <td>Porcelain clown doll checker pants VTG</td>\n",
       "      <td>8.0</td>\n",
       "      <td>0</td>\n",
       "      <td>NaN</td>\n",
       "      <td>9.0</td>\n",
       "    </tr>\n",
       "    <tr>\n",
       "      <th>10</th>\n",
       "      <td>Smashbox</td>\n",
       "      <td>Beauty/Makeup/Face</td>\n",
       "      <td>2</td>\n",
       "      <td>0.25 oz Full size is 1oz for [rm] in Sephora</td>\n",
       "      <td>Smashbox primer</td>\n",
       "      <td>8.0</td>\n",
       "      <td>1</td>\n",
       "      <td>NaN</td>\n",
       "      <td>10.0</td>\n",
       "    </tr>\n",
       "    <tr>\n",
       "      <th>11</th>\n",
       "      <td>Victoria's Secret</td>\n",
       "      <td>Beauty/Fragrance/Women</td>\n",
       "      <td>1</td>\n",
       "      <td>(5) new vs pink body mists (2.5 oz each) Fresh...</td>\n",
       "      <td>New vs pi k body mists</td>\n",
       "      <td>34.0</td>\n",
       "      <td>0</td>\n",
       "      <td>NaN</td>\n",
       "      <td>11.0</td>\n",
       "    </tr>\n",
       "    <tr>\n",
       "      <th>12</th>\n",
       "      <td>rue</td>\n",
       "      <td>Women/Dresses/Above Knee, Mini</td>\n",
       "      <td>2</td>\n",
       "      <td>Xl, great condition</td>\n",
       "      <td>Black Skater dress</td>\n",
       "      <td>16.0</td>\n",
       "      <td>0</td>\n",
       "      <td>NaN</td>\n",
       "      <td>12.0</td>\n",
       "    </tr>\n",
       "    <tr>\n",
       "      <th>13</th>\n",
       "      <td>Scholastic</td>\n",
       "      <td>Other/Office supplies/School Supplies</td>\n",
       "      <td>1</td>\n",
       "      <td>No description yet</td>\n",
       "      <td>Sharpener and eraser</td>\n",
       "      <td>4.0</td>\n",
       "      <td>1</td>\n",
       "      <td>NaN</td>\n",
       "      <td>13.0</td>\n",
       "    </tr>\n",
       "    <tr>\n",
       "      <th>14</th>\n",
       "      <td>UGG Australia</td>\n",
       "      <td>Women/Shoes/Boots</td>\n",
       "      <td>3</td>\n",
       "      <td>Authentic. Suede fringe boots. Great condition...</td>\n",
       "      <td>HOLD for Dogs2016 Minnetonka boots</td>\n",
       "      <td>43.0</td>\n",
       "      <td>0</td>\n",
       "      <td>NaN</td>\n",
       "      <td>14.0</td>\n",
       "    </tr>\n",
       "    <tr>\n",
       "      <th>15</th>\n",
       "      <td>Tarte</td>\n",
       "      <td>Beauty/Makeup/Makeup Sets</td>\n",
       "      <td>1</td>\n",
       "      <td>Brand new. Deluxe travel size products. Contai...</td>\n",
       "      <td>Sephora tarte birthday gift</td>\n",
       "      <td>11.0</td>\n",
       "      <td>1</td>\n",
       "      <td>NaN</td>\n",
       "      <td>15.0</td>\n",
       "    </tr>\n",
       "    <tr>\n",
       "      <th>16</th>\n",
       "      <td>Wet n Wild</td>\n",
       "      <td>Beauty/Makeup/Eyes</td>\n",
       "      <td>1</td>\n",
       "      <td>2 glitter eyeshadows; one in Brass and one in ...</td>\n",
       "      <td>Glitter Eyeshadow</td>\n",
       "      <td>6.0</td>\n",
       "      <td>1</td>\n",
       "      <td>NaN</td>\n",
       "      <td>16.0</td>\n",
       "    </tr>\n",
       "    <tr>\n",
       "      <th>17</th>\n",
       "      <td>missing</td>\n",
       "      <td>Kids/Gear/Backpacks &amp; Carriers</td>\n",
       "      <td>1</td>\n",
       "      <td>Brand new in box Size: Medium Color: Coral Ret...</td>\n",
       "      <td>New: Baby K'tan active baby carrier</td>\n",
       "      <td>29.0</td>\n",
       "      <td>1</td>\n",
       "      <td>NaN</td>\n",
       "      <td>17.0</td>\n",
       "    </tr>\n",
       "    <tr>\n",
       "      <th>18</th>\n",
       "      <td>Too Faced</td>\n",
       "      <td>Beauty/Makeup/Makeup Palettes</td>\n",
       "      <td>1</td>\n",
       "      <td>This AUTHENTIC pallete by Too Faced is brand n...</td>\n",
       "      <td>Too Faced Limited \"Merry Macaroons\"</td>\n",
       "      <td>25.0</td>\n",
       "      <td>1</td>\n",
       "      <td>NaN</td>\n",
       "      <td>18.0</td>\n",
       "    </tr>\n",
       "    <tr>\n",
       "      <th>19</th>\n",
       "      <td>Anthropologie</td>\n",
       "      <td>Women/Tops &amp; Blouses/Blouse</td>\n",
       "      <td>2</td>\n",
       "      <td>Fancy, dressy or casual! Dress it up or down 1...</td>\n",
       "      <td>Cream/ Beige Front Cross Shirt</td>\n",
       "      <td>27.0</td>\n",
       "      <td>0</td>\n",
       "      <td>NaN</td>\n",
       "      <td>19.0</td>\n",
       "    </tr>\n",
       "    <tr>\n",
       "      <th>20</th>\n",
       "      <td>Torrid</td>\n",
       "      <td>Women/Tops &amp; Blouses/Tank, Cami</td>\n",
       "      <td>3</td>\n",
       "      <td>Size 1. Worn once. Excellent condition</td>\n",
       "      <td>Torrid Nautical Peplum Tube Top</td>\n",
       "      <td>13.0</td>\n",
       "      <td>1</td>\n",
       "      <td>NaN</td>\n",
       "      <td>20.0</td>\n",
       "    </tr>\n",
       "    <tr>\n",
       "      <th>21</th>\n",
       "      <td>Victoria's Secret</td>\n",
       "      <td>Women/Athletic Apparel/Sports Bras</td>\n",
       "      <td>1</td>\n",
       "      <td>NWT Victoria's Secret ULTIMATE SPORT BRA -MAXI...</td>\n",
       "      <td>NWT VS ULTIMATE SPORTS BRA 34ddd</td>\n",
       "      <td>20.0</td>\n",
       "      <td>0</td>\n",
       "      <td>NaN</td>\n",
       "      <td>21.0</td>\n",
       "    </tr>\n",
       "    <tr>\n",
       "      <th>22</th>\n",
       "      <td>Samsung</td>\n",
       "      <td>Electronics/Cell Phones &amp; Accessories/Cell Pho...</td>\n",
       "      <td>3</td>\n",
       "      <td>Reasonable offers welcomed. But if you ask \"lo...</td>\n",
       "      <td>Galaxy S7 Edge (Unlocked) 32GB</td>\n",
       "      <td>386.0</td>\n",
       "      <td>0</td>\n",
       "      <td>NaN</td>\n",
       "      <td>22.0</td>\n",
       "    </tr>\n",
       "    <tr>\n",
       "      <th>23</th>\n",
       "      <td>missing</td>\n",
       "      <td>Electronics/Cell Phones &amp; Accessories/Chargers...</td>\n",
       "      <td>1</td>\n",
       "      <td>Brand new never used All colors are available ...</td>\n",
       "      <td>Triple car charger</td>\n",
       "      <td>8.0</td>\n",
       "      <td>1</td>\n",
       "      <td>NaN</td>\n",
       "      <td>23.0</td>\n",
       "    </tr>\n",
       "    <tr>\n",
       "      <th>24</th>\n",
       "      <td>FOREVER 21</td>\n",
       "      <td>Women/Tops &amp; Blouses/T-Shirts</td>\n",
       "      <td>2</td>\n",
       "      <td>lanascloset ~~~ description: never worn! ✨ i d...</td>\n",
       "      <td>Black and Red Baseball Tee</td>\n",
       "      <td>10.0</td>\n",
       "      <td>0</td>\n",
       "      <td>NaN</td>\n",
       "      <td>24.0</td>\n",
       "    </tr>\n",
       "  </tbody>\n",
       "</table>\n",
       "</div>"
      ],
      "text/plain": [
       "           brand_name                                      category_name  \\\n",
       "0             missing                                  Men/Tops/T-shirts   \n",
       "1               Razer  Electronics/Computers & Tablets/Components & P...   \n",
       "2              Target                        Women/Tops & Blouses/Blouse   \n",
       "3             missing                 Home/Home Décor/Home Décor Accents   \n",
       "4             missing                            Women/Jewelry/Necklaces   \n",
       "5             missing                                  Women/Other/Other   \n",
       "6     Acacia Swimwear                           Women/Swimwear/Two-Piece   \n",
       "7               Soffe                    Sports & Outdoors/Apparel/Girls   \n",
       "8                Nike                    Sports & Outdoors/Apparel/Girls   \n",
       "9             missing           Vintage & Collectibles/Collectibles/Doll   \n",
       "10           Smashbox                                 Beauty/Makeup/Face   \n",
       "11  Victoria's Secret                             Beauty/Fragrance/Women   \n",
       "12                rue                     Women/Dresses/Above Knee, Mini   \n",
       "13         Scholastic              Other/Office supplies/School Supplies   \n",
       "14      UGG Australia                                  Women/Shoes/Boots   \n",
       "15              Tarte                          Beauty/Makeup/Makeup Sets   \n",
       "16         Wet n Wild                                 Beauty/Makeup/Eyes   \n",
       "17            missing                     Kids/Gear/Backpacks & Carriers   \n",
       "18          Too Faced                      Beauty/Makeup/Makeup Palettes   \n",
       "19      Anthropologie                        Women/Tops & Blouses/Blouse   \n",
       "20             Torrid                    Women/Tops & Blouses/Tank, Cami   \n",
       "21  Victoria's Secret                 Women/Athletic Apparel/Sports Bras   \n",
       "22            Samsung  Electronics/Cell Phones & Accessories/Cell Pho...   \n",
       "23            missing  Electronics/Cell Phones & Accessories/Chargers...   \n",
       "24         FOREVER 21                      Women/Tops & Blouses/T-Shirts   \n",
       "\n",
       "   item_condition_id                                   item_description  \\\n",
       "0                  3                                 No description yet   \n",
       "1                  3  This keyboard is in great condition and works ...   \n",
       "2                  1  Adorable top with a hint of lace and a key hol...   \n",
       "3                  1  New with tags. Leather horses. Retail for [rm]...   \n",
       "4                  1          Complete with certificate of authenticity   \n",
       "5                  3  Banana republic bottoms, Candies skirt with ma...   \n",
       "6                  3  Size small but straps slightly shortened to fi...   \n",
       "7                  3  You get three pairs of Sophie cheer shorts siz...   \n",
       "8                  3   Girls Size small Plus green. Three shorts total.   \n",
       "9                  3  I realized his pants are on backwards after th...   \n",
       "10                 2       0.25 oz Full size is 1oz for [rm] in Sephora   \n",
       "11                 1  (5) new vs pink body mists (2.5 oz each) Fresh...   \n",
       "12                 2                                Xl, great condition   \n",
       "13                 1                                 No description yet   \n",
       "14                 3  Authentic. Suede fringe boots. Great condition...   \n",
       "15                 1  Brand new. Deluxe travel size products. Contai...   \n",
       "16                 1  2 glitter eyeshadows; one in Brass and one in ...   \n",
       "17                 1  Brand new in box Size: Medium Color: Coral Ret...   \n",
       "18                 1  This AUTHENTIC pallete by Too Faced is brand n...   \n",
       "19                 2  Fancy, dressy or casual! Dress it up or down 1...   \n",
       "20                 3             Size 1. Worn once. Excellent condition   \n",
       "21                 1  NWT Victoria's Secret ULTIMATE SPORT BRA -MAXI...   \n",
       "22                 3  Reasonable offers welcomed. But if you ask \"lo...   \n",
       "23                 1  Brand new never used All colors are available ...   \n",
       "24                 2  lanascloset ~~~ description: never worn! ✨ i d...   \n",
       "\n",
       "                                      name  price  shipping  test_id  train_id  \n",
       "0      MLB Cincinnati Reds T Shirt Size XL   10.0         1      NaN       0.0  \n",
       "1         Razer BlackWidow Chroma Keyboard   52.0         0      NaN       1.0  \n",
       "2                           AVA-VIV Blouse   10.0         1      NaN       2.0  \n",
       "3                    Leather Horse Statues   35.0         1      NaN       3.0  \n",
       "4                     24K GOLD plated rose   44.0         0      NaN       4.0  \n",
       "5         Bundled items requested for Ruie   59.0         0      NaN       5.0  \n",
       "6       Acacia pacific tides santorini top   64.0         0      NaN       6.0  \n",
       "7     Girls cheer and tumbling bundle of 7    6.0         1      NaN       7.0  \n",
       "8                    Girls Nike Pro shorts   19.0         0      NaN       8.0  \n",
       "9   Porcelain clown doll checker pants VTG    8.0         0      NaN       9.0  \n",
       "10                         Smashbox primer    8.0         1      NaN      10.0  \n",
       "11                  New vs pi k body mists   34.0         0      NaN      11.0  \n",
       "12                      Black Skater dress   16.0         0      NaN      12.0  \n",
       "13                    Sharpener and eraser    4.0         1      NaN      13.0  \n",
       "14      HOLD for Dogs2016 Minnetonka boots   43.0         0      NaN      14.0  \n",
       "15             Sephora tarte birthday gift   11.0         1      NaN      15.0  \n",
       "16                       Glitter Eyeshadow    6.0         1      NaN      16.0  \n",
       "17     New: Baby K'tan active baby carrier   29.0         1      NaN      17.0  \n",
       "18     Too Faced Limited \"Merry Macaroons\"   25.0         1      NaN      18.0  \n",
       "19          Cream/ Beige Front Cross Shirt   27.0         0      NaN      19.0  \n",
       "20         Torrid Nautical Peplum Tube Top   13.0         1      NaN      20.0  \n",
       "21        NWT VS ULTIMATE SPORTS BRA 34ddd   20.0         0      NaN      21.0  \n",
       "22          Galaxy S7 Edge (Unlocked) 32GB  386.0         0      NaN      22.0  \n",
       "23                      Triple car charger    8.0         1      NaN      23.0  \n",
       "24              Black and Red Baseball Tee   10.0         0      NaN      24.0  "
      ]
     },
     "execution_count": 13,
     "metadata": {},
     "output_type": "execute_result"
    }
   ],
   "source": [
    "merge.head(25)"
   ]
  },
  {
   "cell_type": "code",
   "execution_count": 13,
   "metadata": {
    "collapsed": true
   },
   "outputs": [],
   "source": [
    "cv = CountVectorizer(min_df=NAME_MIN_DF)\n",
    "X_name = cv.fit_transform(merge['name'])"
   ]
  },
  {
   "cell_type": "code",
   "execution_count": 14,
   "metadata": {
    "collapsed": true
   },
   "outputs": [],
   "source": [
    "cv = CountVectorizer()\n",
    "X_category = cv.fit_transform(merge['category_name'])"
   ]
  },
  {
   "cell_type": "code",
   "execution_count": 15,
   "metadata": {},
   "outputs": [
    {
     "data": {
      "text/html": [
       "<div>\n",
       "<style>\n",
       "    .dataframe thead tr:only-child th {\n",
       "        text-align: right;\n",
       "    }\n",
       "\n",
       "    .dataframe thead th {\n",
       "        text-align: left;\n",
       "    }\n",
       "\n",
       "    .dataframe tbody tr th {\n",
       "        vertical-align: top;\n",
       "    }\n",
       "</style>\n",
       "<table border=\"1\" class=\"dataframe\">\n",
       "  <thead>\n",
       "    <tr style=\"text-align: right;\">\n",
       "      <th></th>\n",
       "      <th>brand_name</th>\n",
       "      <th>category_name</th>\n",
       "      <th>item_condition_id</th>\n",
       "      <th>item_description</th>\n",
       "      <th>name</th>\n",
       "      <th>price</th>\n",
       "      <th>shipping</th>\n",
       "      <th>test_id</th>\n",
       "      <th>train_id</th>\n",
       "    </tr>\n",
       "  </thead>\n",
       "  <tbody>\n",
       "    <tr>\n",
       "      <th>0</th>\n",
       "      <td>missing</td>\n",
       "      <td>Men/Tops/T-shirts</td>\n",
       "      <td>3</td>\n",
       "      <td>No description yet</td>\n",
       "      <td>MLB Cincinnati Reds T Shirt Size XL</td>\n",
       "      <td>10.0</td>\n",
       "      <td>1</td>\n",
       "      <td>NaN</td>\n",
       "      <td>0.0</td>\n",
       "    </tr>\n",
       "    <tr>\n",
       "      <th>1</th>\n",
       "      <td>Razer</td>\n",
       "      <td>Electronics/Computers &amp; Tablets/Components &amp; P...</td>\n",
       "      <td>3</td>\n",
       "      <td>This keyboard is in great condition and works ...</td>\n",
       "      <td>Razer BlackWidow Chroma Keyboard</td>\n",
       "      <td>52.0</td>\n",
       "      <td>0</td>\n",
       "      <td>NaN</td>\n",
       "      <td>1.0</td>\n",
       "    </tr>\n",
       "    <tr>\n",
       "      <th>2</th>\n",
       "      <td>Target</td>\n",
       "      <td>Women/Tops &amp; Blouses/Blouse</td>\n",
       "      <td>1</td>\n",
       "      <td>Adorable top with a hint of lace and a key hol...</td>\n",
       "      <td>AVA-VIV Blouse</td>\n",
       "      <td>10.0</td>\n",
       "      <td>1</td>\n",
       "      <td>NaN</td>\n",
       "      <td>2.0</td>\n",
       "    </tr>\n",
       "    <tr>\n",
       "      <th>3</th>\n",
       "      <td>missing</td>\n",
       "      <td>Home/Home Décor/Home Décor Accents</td>\n",
       "      <td>1</td>\n",
       "      <td>New with tags. Leather horses. Retail for [rm]...</td>\n",
       "      <td>Leather Horse Statues</td>\n",
       "      <td>35.0</td>\n",
       "      <td>1</td>\n",
       "      <td>NaN</td>\n",
       "      <td>3.0</td>\n",
       "    </tr>\n",
       "    <tr>\n",
       "      <th>4</th>\n",
       "      <td>missing</td>\n",
       "      <td>Women/Jewelry/Necklaces</td>\n",
       "      <td>1</td>\n",
       "      <td>Complete with certificate of authenticity</td>\n",
       "      <td>24K GOLD plated rose</td>\n",
       "      <td>44.0</td>\n",
       "      <td>0</td>\n",
       "      <td>NaN</td>\n",
       "      <td>4.0</td>\n",
       "    </tr>\n",
       "  </tbody>\n",
       "</table>\n",
       "</div>"
      ],
      "text/plain": [
       "  brand_name                                      category_name  \\\n",
       "0    missing                                  Men/Tops/T-shirts   \n",
       "1      Razer  Electronics/Computers & Tablets/Components & P...   \n",
       "2     Target                        Women/Tops & Blouses/Blouse   \n",
       "3    missing                 Home/Home Décor/Home Décor Accents   \n",
       "4    missing                            Women/Jewelry/Necklaces   \n",
       "\n",
       "  item_condition_id                                   item_description  \\\n",
       "0                 3                                 No description yet   \n",
       "1                 3  This keyboard is in great condition and works ...   \n",
       "2                 1  Adorable top with a hint of lace and a key hol...   \n",
       "3                 1  New with tags. Leather horses. Retail for [rm]...   \n",
       "4                 1          Complete with certificate of authenticity   \n",
       "\n",
       "                                  name  price  shipping  test_id  train_id  \n",
       "0  MLB Cincinnati Reds T Shirt Size XL   10.0         1      NaN       0.0  \n",
       "1     Razer BlackWidow Chroma Keyboard   52.0         0      NaN       1.0  \n",
       "2                       AVA-VIV Blouse   10.0         1      NaN       2.0  \n",
       "3                Leather Horse Statues   35.0         1      NaN       3.0  \n",
       "4                 24K GOLD plated rose   44.0         0      NaN       4.0  "
      ]
     },
     "execution_count": 15,
     "metadata": {},
     "output_type": "execute_result"
    }
   ],
   "source": [
    "merge.head()"
   ]
  },
  {
   "cell_type": "code",
   "execution_count": 16,
   "metadata": {
    "collapsed": true
   },
   "outputs": [],
   "source": [
    "tv = TfidfVectorizer(max_features=MAX_FEATURES_ITEM_DESCRIPTION, ngram_range=(1, 3), stop_words='english')\n",
    "X_description = tv.fit_transform(merge['item_description'])"
   ]
  },
  {
   "cell_type": "code",
   "execution_count": 17,
   "metadata": {
    "collapsed": true
   },
   "outputs": [],
   "source": [
    "lb = LabelBinarizer(sparse_output=True)\n",
    "X_brand = lb.fit_transform(merge['brand_name'])"
   ]
  },
  {
   "cell_type": "code",
   "execution_count": 18,
   "metadata": {
    "collapsed": true
   },
   "outputs": [],
   "source": [
    "X_dummies = csr_matrix(pd.get_dummies(merge[['item_condition_id', 'shipping']], sparse=True).values)"
   ]
  },
  {
   "cell_type": "code",
   "execution_count": 19,
   "metadata": {
    "collapsed": true
   },
   "outputs": [],
   "source": [
    "sparse_merge = hstack((X_dummies, X_description, X_brand, X_name)).tocsr()"
   ]
  },
  {
   "cell_type": "code",
   "execution_count": 20,
   "metadata": {
    "collapsed": true
   },
   "outputs": [],
   "source": [
    "X = sparse_merge[:nrow_train]\n",
    "X_test = sparse_merge[nrow_train:]"
   ]
  },
  {
   "cell_type": "code",
   "execution_count": 39,
   "metadata": {
    "collapsed": true
   },
   "outputs": [],
   "source": [
    "model = Ridge(alpha=0.01, copy_X=True, fit_intercept=True, max_iter=100,\n",
    "      normalize=False, random_state=80, solver='auto', tol=0.01)"
   ]
  },
  {
   "cell_type": "code",
   "execution_count": 40,
   "metadata": {},
   "outputs": [
    {
     "data": {
      "text/plain": [
       "Ridge(alpha=0.01, copy_X=True, fit_intercept=True, max_iter=100,\n",
       "   normalize=False, random_state=80, solver='auto', tol=0.01)"
      ]
     },
     "execution_count": 40,
     "metadata": {},
     "output_type": "execute_result"
    }
   ],
   "source": [
    "model.fit(X, y)"
   ]
  },
  {
   "cell_type": "code",
   "execution_count": 41,
   "metadata": {},
   "outputs": [
    {
     "data": {
      "text/plain": [
       "0.63213261886333594"
      ]
     },
     "execution_count": 41,
     "metadata": {},
     "output_type": "execute_result"
    }
   ],
   "source": [
    "model.score(X, y)"
   ]
  },
  {
   "cell_type": "code",
   "execution_count": 42,
   "metadata": {
    "collapsed": true
   },
   "outputs": [],
   "source": [
    "predsR = model.predict(X=X_test)"
   ]
  },
  {
   "cell_type": "code",
   "execution_count": null,
   "metadata": {
    "scrolled": false
   },
   "outputs": [
    {
     "name": "stderr",
     "output_type": "stream",
     "text": [
      "C:\\Users\\diaschen\\AppData\\Local\\Continuum\\anaconda\\lib\\site-packages\\lightgbm\\basic.py:648: LGBMDeprecationWarning: The `max_bin` parameter is deprecated and will be removed in 2.0.12 version. Please use `params` to pass this parameter.\n",
      "  'Please use `params` to pass this parameter.', LGBMDeprecationWarning)\n",
      "C:\\Users\\diaschen\\AppData\\Local\\Continuum\\anaconda\\lib\\site-packages\\lightgbm\\basic.py:642: UserWarning: max_bin keyword has been found in `params` and will be ignored. Please use max_bin argument of the Dataset constructor to pass this parameter.\n",
      "  'Please use {0} argument of the Dataset constructor to pass this parameter.'.format(key))\n"
     ]
    },
    {
     "name": "stdout",
     "output_type": "stream",
     "text": [
      "Training until validation scores don't improve for 500 rounds.\n",
      "[500]\ttraining's rmse: 0.499869\tvalid_1's rmse: 0.504351\n",
      "[1000]\ttraining's rmse: 0.47785\tvalid_1's rmse: 0.486884\n",
      "[1500]\ttraining's rmse: 0.466246\tvalid_1's rmse: 0.479368\n"
     ]
    }
   ],
   "source": [
    "train_X, valid_X, train_y, valid_y = train_test_split(X, y, test_size = 0.15, random_state = 80) \n",
    "d_train = lgb.Dataset(train_X, label=train_y, max_bin=8192)\n",
    "d_valid = lgb.Dataset(valid_X, label=valid_y, max_bin=8192)\n",
    "watchlist = [d_train, d_valid]\n",
    "params = {\n",
    "        'learning_rate': 0.7,\n",
    "        'application': 'regression',\n",
    "        'max_depth': 3,\n",
    "        'num_leaves': 60,\n",
    "        'verbosity': -1,\n",
    "        'metric': 'RMSE',\n",
    "        'data_random_seed': 1,\n",
    "        'bagging_fraction': 1,\n",
    "        'nthread': 4\n",
    "}\n",
    "model = lgb.train(params, train_set=d_train, num_boost_round=7500, valid_sets=watchlist, \\\n",
    "    early_stopping_rounds=500, verbose_eval=500) \n",
    "predsL = model.predict(X_test)"
   ]
  },
  {
   "cell_type": "code",
   "execution_count": null,
   "metadata": {
    "collapsed": true
   },
   "outputs": [],
   "source": [
    "print('finish')"
   ]
  },
  {
   "cell_type": "code",
   "execution_count": null,
   "metadata": {
    "collapsed": true
   },
   "outputs": [],
   "source": [
    "train_X2, valid_X2, train_y2, valid_y2 = train_test_split(X, y, test_size = 0.1, random_state = 101) \n",
    "d_train2 = lgb.Dataset(train_X2, label=train_y2, max_bin=8192)\n",
    "d_valid2 = lgb.Dataset(valid_X2, label=valid_y2, max_bin=8192)\n",
    "watchlist2 = [d_train2, d_valid2]\n",
    "params2 = {\n",
    "        'learning_rate': 0.95,\n",
    "        'application': 'regression',\n",
    "        'max_depth': 3,\n",
    "        'num_leaves': 140,\n",
    "        'verbosity': -1,\n",
    "        'metric': 'RMSE',\n",
    "        'data_random_seed': 2,\n",
    "        'bagging_fraction': 0.5,\n",
    "        'nthread': 4\n",
    "}\n",
    "\n",
    "model = lgb.train(params2, train_set=d_train2, num_boost_round=5000, valid_sets=watchlist2, \\\n",
    "early_stopping_rounds=50, verbose_eval=500) \n",
    "predsL2 = model.predict(X_test)"
   ]
  },
  {
   "cell_type": "code",
   "execution_count": null,
   "metadata": {
    "collapsed": true
   },
   "outputs": [],
   "source": [
    "print('finish')"
   ]
  },
  {
   "cell_type": "code",
   "execution_count": null,
   "metadata": {
    "collapsed": true
   },
   "outputs": [],
   "source": [
    "preds = predsR*0.3 + predsL*0.35 + predsL2*0.35"
   ]
  },
  {
   "cell_type": "code",
   "execution_count": 68,
   "metadata": {
    "collapsed": true
   },
   "outputs": [],
   "source": [
    "test[\"price\"] = np.expm1(preds)\n",
    "test[[\"test_id\", \"price\"]].to_csv(\"submi.csv\", index = False)"
   ]
  },
  {
   "cell_type": "code",
   "execution_count": null,
   "metadata": {
    "collapsed": true
   },
   "outputs": [],
   "source": []
  }
 ],
 "metadata": {
  "kernelspec": {
   "display_name": "Python 3",
   "language": "python",
   "name": "python3"
  },
  "language_info": {
   "codemirror_mode": {
    "name": "ipython",
    "version": 3
   },
   "file_extension": ".py",
   "mimetype": "text/x-python",
   "name": "python",
   "nbconvert_exporter": "python",
   "pygments_lexer": "ipython3",
   "version": "3.6.5"
  }
 },
 "nbformat": 4,
 "nbformat_minor": 2
}
